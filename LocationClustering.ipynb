{
 "cells": [
  {
   "cell_type": "code",
   "execution_count": 1,
   "id": "483c6bb2-7c50-4901-a375-6d7fde7836f6",
   "metadata": {},
   "outputs": [],
   "source": [
    "import numpy as np\n",
    "import pandas as pd"
   ]
  },
  {
   "cell_type": "code",
   "execution_count": 2,
   "id": "412c057f-1728-433c-8acd-4ac6c433e22e",
   "metadata": {},
   "outputs": [
    {
     "data": {
      "text/html": [
       "<div>\n",
       "<style scoped>\n",
       "    .dataframe tbody tr th:only-of-type {\n",
       "        vertical-align: middle;\n",
       "    }\n",
       "\n",
       "    .dataframe tbody tr th {\n",
       "        vertical-align: top;\n",
       "    }\n",
       "\n",
       "    .dataframe thead th {\n",
       "        text-align: right;\n",
       "    }\n",
       "</style>\n",
       "<table border=\"1\" class=\"dataframe\">\n",
       "  <thead>\n",
       "    <tr style=\"text-align: right;\">\n",
       "      <th></th>\n",
       "      <th>Accident_Date</th>\n",
       "      <th>Accident_Time</th>\n",
       "      <th>At_Intersection</th>\n",
       "      <th>CASE_Number</th>\n",
       "      <th>City</th>\n",
       "      <th>Day_of_Week</th>\n",
       "      <th>Intersection_Type</th>\n",
       "      <th>Light_Conditions</th>\n",
       "      <th>Location_of_First_Harmful_Event</th>\n",
       "      <th>Main_Street</th>\n",
       "      <th>...</th>\n",
       "      <th>Type_of_Collision</th>\n",
       "      <th>Weather_Condition</th>\n",
       "      <th>Work_Zone_Location</th>\n",
       "      <th>Work_Zone_Related</th>\n",
       "      <th>Work_Zone_Type</th>\n",
       "      <th>Workers_Present_in_Work_Zone</th>\n",
       "      <th>Zone_ID</th>\n",
       "      <th>OBJECTID</th>\n",
       "      <th>latitude</th>\n",
       "      <th>longitude</th>\n",
       "    </tr>\n",
       "  </thead>\n",
       "  <tbody>\n",
       "    <tr>\n",
       "      <th>0</th>\n",
       "      <td>2020/01/03 19:35:00+00</td>\n",
       "      <td>1935</td>\n",
       "      <td>100 Feet From</td>\n",
       "      <td>2.020000e+09</td>\n",
       "      <td>VIRGINIA BEACH</td>\n",
       "      <td>FRI</td>\n",
       "      <td>NOT AT INTERSECTION</td>\n",
       "      <td>DARKNESS-ROAD LIGHTED</td>\n",
       "      <td>ON ROADWAY</td>\n",
       "      <td>1600 BLK GENERAL BOOTH BOULEVARD</td>\n",
       "      <td>...</td>\n",
       "      <td>ANGLE</td>\n",
       "      <td>RAIN</td>\n",
       "      <td>NaN</td>\n",
       "      <td>NO</td>\n",
       "      <td>NaN</td>\n",
       "      <td>NaN</td>\n",
       "      <td>na</td>\n",
       "      <td>1</td>\n",
       "      <td>36.785572</td>\n",
       "      <td>-75.998705</td>\n",
       "    </tr>\n",
       "    <tr>\n",
       "      <th>1</th>\n",
       "      <td>2020/01/04 00:00:00+00</td>\n",
       "      <td>1505</td>\n",
       "      <td>Yes</td>\n",
       "      <td>2.020000e+09</td>\n",
       "      <td>VIRGINIA BEACH</td>\n",
       "      <td>SAT</td>\n",
       "      <td>NOT AT INTERSECTION</td>\n",
       "      <td>DAYLIGHT</td>\n",
       "      <td>ON ROADWAY</td>\n",
       "      <td>5670 INDIAN RIVER RD</td>\n",
       "      <td>...</td>\n",
       "      <td>SIDESWIPE-SAME DIRECTION</td>\n",
       "      <td>RAIN</td>\n",
       "      <td>NaN</td>\n",
       "      <td>NO</td>\n",
       "      <td>NaN</td>\n",
       "      <td>NaN</td>\n",
       "      <td>na</td>\n",
       "      <td>2</td>\n",
       "      <td>36.805590</td>\n",
       "      <td>-76.190396</td>\n",
       "    </tr>\n",
       "    <tr>\n",
       "      <th>2</th>\n",
       "      <td>2020/01/06 00:00:00+00</td>\n",
       "      <td>815</td>\n",
       "      <td>50 Feet From</td>\n",
       "      <td>2.020001e+09</td>\n",
       "      <td>VIRGINIA BEACH</td>\n",
       "      <td>MON</td>\n",
       "      <td>NOT AT INTERSECTION</td>\n",
       "      <td>DAYLIGHT</td>\n",
       "      <td>ON ROADWAY</td>\n",
       "      <td>700 GREAT NECK RD</td>\n",
       "      <td>...</td>\n",
       "      <td>REAR END</td>\n",
       "      <td>NO ADVERSE CONDITION (CLEAR/CLOUDY)</td>\n",
       "      <td>NaN</td>\n",
       "      <td>NO</td>\n",
       "      <td>NaN</td>\n",
       "      <td>NaN</td>\n",
       "      <td>na</td>\n",
       "      <td>3</td>\n",
       "      <td>36.852291</td>\n",
       "      <td>-76.048317</td>\n",
       "    </tr>\n",
       "    <tr>\n",
       "      <th>3</th>\n",
       "      <td>2020/01/07 19:15:00+00</td>\n",
       "      <td>1915</td>\n",
       "      <td>150 Feet From</td>\n",
       "      <td>2.020001e+09</td>\n",
       "      <td>VIRGINIA BEACH</td>\n",
       "      <td>TUE</td>\n",
       "      <td>FOUR APPROACHES</td>\n",
       "      <td>DARKNESS-ROAD LIGHTED</td>\n",
       "      <td>ON ROADWAY</td>\n",
       "      <td>100 BLOCK LONDON BRIDGE</td>\n",
       "      <td>...</td>\n",
       "      <td>SIDESWIPE-SAME DIRECTION</td>\n",
       "      <td>NO ADVERSE CONDITION (CLEAR/CLOUDY)</td>\n",
       "      <td>NaN</td>\n",
       "      <td>NO</td>\n",
       "      <td>NaN</td>\n",
       "      <td>NaN</td>\n",
       "      <td>na</td>\n",
       "      <td>4</td>\n",
       "      <td>36.841992</td>\n",
       "      <td>-76.049118</td>\n",
       "    </tr>\n",
       "    <tr>\n",
       "      <th>4</th>\n",
       "      <td>2020/01/08 16:36:00+00</td>\n",
       "      <td>1636</td>\n",
       "      <td>300 Feet From</td>\n",
       "      <td>2.020001e+09</td>\n",
       "      <td>VIRGINIA BEACH</td>\n",
       "      <td>WED</td>\n",
       "      <td>NOT AT INTERSECTION</td>\n",
       "      <td>DUSK</td>\n",
       "      <td>ON ROADWAY</td>\n",
       "      <td>2400 BLK N. LANDING RD</td>\n",
       "      <td>...</td>\n",
       "      <td>REAR END</td>\n",
       "      <td>NO ADVERSE CONDITION (CLEAR/CLOUDY)</td>\n",
       "      <td>NaN</td>\n",
       "      <td>NO</td>\n",
       "      <td>NaN</td>\n",
       "      <td>NaN</td>\n",
       "      <td>na</td>\n",
       "      <td>6</td>\n",
       "      <td>36.751716</td>\n",
       "      <td>-76.053755</td>\n",
       "    </tr>\n",
       "  </tbody>\n",
       "</table>\n",
       "<p>5 rows × 33 columns</p>\n",
       "</div>"
      ],
      "text/plain": [
       "            Accident_Date  Accident_Time  At_Intersection   CASE_Number  \\\n",
       "0  2020/01/03 19:35:00+00           1935    100 Feet From  2.020000e+09   \n",
       "1  2020/01/04 00:00:00+00           1505              Yes  2.020000e+09   \n",
       "2  2020/01/06 00:00:00+00            815     50 Feet From  2.020001e+09   \n",
       "3  2020/01/07 19:15:00+00           1915    150 Feet From  2.020001e+09   \n",
       "4  2020/01/08 16:36:00+00           1636    300 Feet From  2.020001e+09   \n",
       "\n",
       "             City Day_of_Week    Intersection_Type       Light_Conditions  \\\n",
       "0  VIRGINIA BEACH         FRI  NOT AT INTERSECTION  DARKNESS-ROAD LIGHTED   \n",
       "1  VIRGINIA BEACH         SAT  NOT AT INTERSECTION               DAYLIGHT   \n",
       "2  VIRGINIA BEACH         MON  NOT AT INTERSECTION               DAYLIGHT   \n",
       "3  VIRGINIA BEACH         TUE      FOUR APPROACHES  DARKNESS-ROAD LIGHTED   \n",
       "4  VIRGINIA BEACH         WED  NOT AT INTERSECTION                   DUSK   \n",
       "\n",
       "  Location_of_First_Harmful_Event                       Main_Street  ...  \\\n",
       "0                      ON ROADWAY  1600 BLK GENERAL BOOTH BOULEVARD  ...   \n",
       "1                      ON ROADWAY              5670 INDIAN RIVER RD  ...   \n",
       "2                      ON ROADWAY                 700 GREAT NECK RD  ...   \n",
       "3                      ON ROADWAY           100 BLOCK LONDON BRIDGE  ...   \n",
       "4                      ON ROADWAY            2400 BLK N. LANDING RD  ...   \n",
       "\n",
       "          Type_of_Collision                    Weather_Condition  \\\n",
       "0                     ANGLE                                 RAIN   \n",
       "1  SIDESWIPE-SAME DIRECTION                                 RAIN   \n",
       "2                  REAR END  NO ADVERSE CONDITION (CLEAR/CLOUDY)   \n",
       "3  SIDESWIPE-SAME DIRECTION  NO ADVERSE CONDITION (CLEAR/CLOUDY)   \n",
       "4                  REAR END  NO ADVERSE CONDITION (CLEAR/CLOUDY)   \n",
       "\n",
       "  Work_Zone_Location Work_Zone_Related Work_Zone_Type  \\\n",
       "0                NaN                NO            NaN   \n",
       "1                NaN                NO            NaN   \n",
       "2                NaN                NO            NaN   \n",
       "3                NaN                NO            NaN   \n",
       "4                NaN                NO            NaN   \n",
       "\n",
       "  Workers_Present_in_Work_Zone Zone_ID OBJECTID   latitude  longitude  \n",
       "0                          NaN    na          1  36.785572 -75.998705  \n",
       "1                          NaN    na          2  36.805590 -76.190396  \n",
       "2                          NaN    na          3  36.852291 -76.048317  \n",
       "3                          NaN    na          4  36.841992 -76.049118  \n",
       "4                          NaN    na          6  36.751716 -76.053755  \n",
       "\n",
       "[5 rows x 33 columns]"
      ]
     },
     "execution_count": 2,
     "metadata": {},
     "output_type": "execute_result"
    }
   ],
   "source": [
    "data = pd.read_csv(\"data/FILTERED_Police_Traffic_Crash_Reports.csv\")\n",
    "data.head()"
   ]
  },
  {
   "cell_type": "code",
   "execution_count": 3,
   "id": "53d6e3fd-2bd7-4dbd-b021-d22f62487e16",
   "metadata": {},
   "outputs": [],
   "source": [
    "data.dropna(subset=['latitude', 'longitude'], inplace=True)"
   ]
  },
  {
   "cell_type": "raw",
   "id": "43db1aad-4e80-4f9c-b906-6499dd91f46a",
   "metadata": {},
   "source": [
    "!pip install geopandas"
   ]
  },
  {
   "cell_type": "code",
   "execution_count": 4,
   "id": "92a83046-d8ae-4c37-b9c3-687ddfce0f2e",
   "metadata": {},
   "outputs": [],
   "source": [
    "import geopandas as gpd"
   ]
  },
  {
   "cell_type": "code",
   "execution_count": 5,
   "id": "b36574c1-fac7-4eba-ae9c-b787e9ab9626",
   "metadata": {},
   "outputs": [],
   "source": [
    "gdf = gpd.GeoDataFrame(\n",
    "    data, geometry=gpd.points_from_xy(data.longitude, data.latitude), crs=\"EPSG:4326\"\n",
    ")"
   ]
  },
  {
   "cell_type": "raw",
   "id": "4bd300b1-830b-42e3-a394-768c6a539801",
   "metadata": {},
   "source": [
    "!pip install folium matplotlib mapclassify;"
   ]
  },
  {
   "cell_type": "code",
   "execution_count": null,
   "id": "ec10ef14-60b9-42c0-9a19-abeed19c2228",
   "metadata": {},
   "outputs": [],
   "source": [
    "gdf.explore()"
   ]
  },
  {
   "cell_type": "code",
   "execution_count": null,
   "id": "62c4bff1-89e3-4235-9da8-6bbc04be2eab",
   "metadata": {},
   "outputs": [],
   "source": []
  },
  {
   "cell_type": "raw",
   "id": "9de46d32-6a06-41f8-8d2f-64a54672253a",
   "metadata": {},
   "source": [
    "!pip install geopy;"
   ]
  },
  {
   "cell_type": "code",
   "execution_count": null,
   "id": "5741e297-588a-47bd-96f3-393a5c18a3b1",
   "metadata": {},
   "outputs": [],
   "source": [
    "# Comparing haversine and geodesic distances\n",
    "# Sources online claim that haversine is faster, but since haversine is designed for spherical surfaces, it is not as accurate.\n",
    "# Geodesic is a more accurate measurement, but supposedly not as fast"
   ]
  },
  {
   "cell_type": "code",
   "execution_count": 9,
   "id": "abc29bd5-fe02-48d2-9952-9243b5bbeb26",
   "metadata": {},
   "outputs": [
    {
     "name": "stdout",
     "output_type": "stream",
     "text": [
      "Point 1: (38.031387227679765, -78.50257432749238)\n",
      "Point 2: (38.03152372279175, -78.50340559417177)\n",
      "Haversine Distance calculated: 71.9375722784385 in 0.0010006427764892578ms\n",
      "GeoPy (geodesic) Distance calculated: 74.53701011818934 in 0.0ms\n",
      "Google Maps says 74.39 meters\n"
     ]
    }
   ],
   "source": [
    "from sklearn.metrics.pairwise import haversine_distances\n",
    "\n",
    "# https://scikit-learn.org/stable/modules/generated/sklearn.metrics.pairwise.haversine_distances.html\n",
    "def haversine(point1, point2):\n",
    "    result = haversine_distances([point1, point2])\n",
    "    result *= 63780  # multiply by Earth's radius to get meters\n",
    "    distance = (result[0, 1]**2 + result[1, 0]**2)**0.5\n",
    "    return distance\n",
    "\n",
    "from geopy.distance import distance as gpydistance\n",
    "\n",
    "def geodesic(point1, point2):\n",
    "  return gpydistance(point1, point2).meters\n",
    "\n",
    "import time\n",
    "\n",
    "point1 = gdf[['latitude', 'longitude']].iloc[0]\n",
    "point1.latitude = 38.031387227679765\n",
    "point1.longitude = -78.50257432749238\n",
    "point2 = point1.copy()\n",
    "point2.latitude = 38.03152372279175\n",
    "point2.longitude = -78.50340559417177\n",
    "\n",
    "print(f\"Point 1: ({point1.latitude}, {point1.longitude})\")\n",
    "print(f\"Point 2: ({point2.latitude}, {point2.longitude})\")\n",
    "\n",
    "start = time.time()\n",
    "haversine_calculation = haversine(point1, point2)\n",
    "elapsed = time.time() - start\n",
    "print(f\"Haversine Distance calculated: {haversine_calculation} in {elapsed}ms\")\n",
    "\n",
    "start = time.time()\n",
    "geodesic_distance = geodesic(point1, point2)\n",
    "elapsed = time.time() - start\n",
    "print(f\"GeoPy (geodesic) Distance calculated: {geodesic_distance} in {elapsed}ms\")\n",
    "\n",
    "# https://www.google.com/maps/place/38%C2%B001'53.5%22N+78%C2%B030'12.3%22W/@38.0315187,-78.5031495,20.5z/data=!4m4!3m3!8m2!3d38.0315237!4d-78.5034056?entry=ttu\n",
    "print(\"Google Maps says 74.39 meters\") "
   ]
  },
  {
   "cell_type": "code",
   "execution_count": null,
   "id": "176522e7-87fa-4007-bcb7-63c9856784b6",
   "metadata": {},
   "outputs": [],
   "source": [
    "# Geodesic seems to perform better, so we will go with that"
   ]
  },
  {
   "cell_type": "code",
   "execution_count": 10,
   "id": "0faf51a6-cac6-40b3-8d1c-fcfc8637561d",
   "metadata": {},
   "outputs": [],
   "source": [
    "from sklearn.cluster import DBSCAN\n",
    "from geopy.distance import distance as gpydistance\n",
    "\n",
    "epsilon = 25 # meters\n",
    "\n",
    "def earth_distance(point1, point2):\n",
    "  return gpydistance(point1, point2).m\n",
    "\n",
    "# Takes a few minutes to run\n",
    "dbscan = DBSCAN(eps=epsilon, min_samples=1, metric=earth_distance)\n",
    "gdf['cluster'] = dbscan.fit_predict(gdf[['latitude', 'longitude']])"
   ]
  },
  {
   "cell_type": "code",
   "execution_count": 11,
   "id": "5f8b940b-a519-4381-a4fc-03969834d1e8",
   "metadata": {},
   "outputs": [
    {
     "data": {
      "text/plain": [
       "cluster\n",
       "58      90\n",
       "27      76\n",
       "14      73\n",
       "72      71\n",
       "89      71\n",
       "        ..\n",
       "1939     1\n",
       "1940     1\n",
       "1942     1\n",
       "1944     1\n",
       "3870     1\n",
       "Name: count, Length: 3871, dtype: int64"
      ]
     },
     "execution_count": 11,
     "metadata": {},
     "output_type": "execute_result"
    }
   ],
   "source": [
    "gdf[\"cluster\"].value_counts()"
   ]
  },
  {
   "cell_type": "code",
   "execution_count": 24,
   "id": "c0767589-e14c-42f8-a9e8-5620c8a4fdb0",
   "metadata": {},
   "outputs": [],
   "source": [
    "index_of_interest = 27"
   ]
  },
  {
   "cell_type": "code",
   "execution_count": 25,
   "id": "a32d640e-b095-4af9-a2f3-a4e67c1c6cb1",
   "metadata": {},
   "outputs": [
    {
     "data": {
      "text/html": [
       "<div>\n",
       "<style scoped>\n",
       "    .dataframe tbody tr th:only-of-type {\n",
       "        vertical-align: middle;\n",
       "    }\n",
       "\n",
       "    .dataframe tbody tr th {\n",
       "        vertical-align: top;\n",
       "    }\n",
       "\n",
       "    .dataframe thead th {\n",
       "        text-align: right;\n",
       "    }\n",
       "</style>\n",
       "<table border=\"1\" class=\"dataframe\">\n",
       "  <thead>\n",
       "    <tr style=\"text-align: right;\">\n",
       "      <th></th>\n",
       "      <th>Main_Street</th>\n",
       "      <th>Nearest_Street</th>\n",
       "    </tr>\n",
       "  </thead>\n",
       "  <tbody>\n",
       "    <tr>\n",
       "      <th>28</th>\n",
       "      <td>5300 INDIAN RIVER RD</td>\n",
       "      <td>5300 INDIAN RIVER RD</td>\n",
       "    </tr>\n",
       "    <tr>\n",
       "      <th>42</th>\n",
       "      <td>5300 INDIAN RIVER RD</td>\n",
       "      <td>5300 INDIAN RIVER RD</td>\n",
       "    </tr>\n",
       "    <tr>\n",
       "      <th>529</th>\n",
       "      <td>5300 INDIAN RIVER RD</td>\n",
       "      <td>5300 KEMPS RIVER RD</td>\n",
       "    </tr>\n",
       "    <tr>\n",
       "      <th>530</th>\n",
       "      <td>5300 INDIAN RIVER RD</td>\n",
       "      <td>5300 KEMPS RIVER RD</td>\n",
       "    </tr>\n",
       "    <tr>\n",
       "      <th>614</th>\n",
       "      <td>5300 INDIAN RIVER RD</td>\n",
       "      <td>KEMPSRIVER DR</td>\n",
       "    </tr>\n",
       "    <tr>\n",
       "      <th>...</th>\n",
       "      <td>...</td>\n",
       "      <td>...</td>\n",
       "    </tr>\n",
       "    <tr>\n",
       "      <th>8381</th>\n",
       "      <td>5300 INDIAN RIVER RD</td>\n",
       "      <td>KEMPSVILLE RD</td>\n",
       "    </tr>\n",
       "    <tr>\n",
       "      <th>8485</th>\n",
       "      <td>5300 INDIAN RIVER RD</td>\n",
       "      <td>KEMPSVILLE RD</td>\n",
       "    </tr>\n",
       "    <tr>\n",
       "      <th>8511</th>\n",
       "      <td>5300 INDIAN RIVER RD</td>\n",
       "      <td>1400 KEMPSVILLE RD</td>\n",
       "    </tr>\n",
       "    <tr>\n",
       "      <th>8661</th>\n",
       "      <td>5300 INDIAN RIVER RD</td>\n",
       "      <td>KEMPSVILLE RD</td>\n",
       "    </tr>\n",
       "    <tr>\n",
       "      <th>8681</th>\n",
       "      <td>5300 INDIAN RIVER RD</td>\n",
       "      <td>KEMPSVILLE RD</td>\n",
       "    </tr>\n",
       "  </tbody>\n",
       "</table>\n",
       "<p>76 rows × 2 columns</p>\n",
       "</div>"
      ],
      "text/plain": [
       "               Main_Street        Nearest_Street\n",
       "28    5300 INDIAN RIVER RD  5300 INDIAN RIVER RD\n",
       "42    5300 INDIAN RIVER RD  5300 INDIAN RIVER RD\n",
       "529   5300 INDIAN RIVER RD   5300 KEMPS RIVER RD\n",
       "530   5300 INDIAN RIVER RD   5300 KEMPS RIVER RD\n",
       "614   5300 INDIAN RIVER RD         KEMPSRIVER DR\n",
       "...                    ...                   ...\n",
       "8381  5300 INDIAN RIVER RD         KEMPSVILLE RD\n",
       "8485  5300 INDIAN RIVER RD         KEMPSVILLE RD\n",
       "8511  5300 INDIAN RIVER RD    1400 KEMPSVILLE RD\n",
       "8661  5300 INDIAN RIVER RD         KEMPSVILLE RD\n",
       "8681  5300 INDIAN RIVER RD         KEMPSVILLE RD\n",
       "\n",
       "[76 rows x 2 columns]"
      ]
     },
     "execution_count": 25,
     "metadata": {},
     "output_type": "execute_result"
    }
   ],
   "source": [
    "gdf[[\"Main_Street\", \"Nearest_Street\"]][gdf[\"cluster\"] == index_of_interest]"
   ]
  },
  {
   "cell_type": "code",
   "execution_count": null,
   "id": "263631f7-420b-46d1-aa24-96783530c5ca",
   "metadata": {},
   "outputs": [],
   "source": [
    "gdf[gdf[\"cluster\"] == index_of_interest].explore()"
   ]
  },
  {
   "cell_type": "code",
   "execution_count": 28,
   "id": "cee473df-f68d-4fa9-8cf8-e54e9afb3640",
   "metadata": {},
   "outputs": [
    {
     "name": "stderr",
     "output_type": "stream",
     "text": [
      "C:\\Users\\andre\\AppData\\Local\\Temp\\ipykernel_11332\\2806781876.py:1: UserWarning: Column names longer than 10 characters will be truncated when saved to ESRI Shapefile.\n",
      "  gdf.to_file('data/gdf_with_clusters.shp')\n"
     ]
    }
   ],
   "source": [
    "gdf.to_file('data/gdf_with_clusters.shp')"
   ]
  }
 ],
 "metadata": {
  "kernelspec": {
   "display_name": "Python 3 (ipykernel)",
   "language": "python",
   "name": "python3"
  },
  "language_info": {
   "codemirror_mode": {
    "name": "ipython",
    "version": 3
   },
   "file_extension": ".py",
   "mimetype": "text/x-python",
   "name": "python",
   "nbconvert_exporter": "python",
   "pygments_lexer": "ipython3",
   "version": "3.11.4"
  }
 },
 "nbformat": 4,
 "nbformat_minor": 5
}
