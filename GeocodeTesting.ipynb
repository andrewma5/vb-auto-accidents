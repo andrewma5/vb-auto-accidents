{
 "cells": [
  {
   "cell_type": "code",
   "execution_count": 1,
   "id": "ac09cc74-dcc8-444d-9649-7a5c0d1c3ab4",
   "metadata": {},
   "outputs": [
    {
     "name": "stdout",
     "output_type": "stream",
     "text": [
      "Collecting googlemaps\n",
      "  Downloading googlemaps-4.10.0.tar.gz (33 kB)\n",
      "  Installing build dependencies: started\n",
      "  Installing build dependencies: finished with status 'done'\n",
      "  Getting requirements to build wheel: started\n",
      "  Getting requirements to build wheel: finished with status 'done'\n",
      "  Installing backend dependencies: started\n",
      "  Installing backend dependencies: finished with status 'done'\n",
      "  Preparing metadata (pyproject.toml): started\n",
      "  Preparing metadata (pyproject.toml): finished with status 'done'\n",
      "Requirement already satisfied: requests<3.0,>=2.20.0 in c:\\users\\andre\\documents\\python\\ml4va\\env\\lib\\site-packages (from googlemaps) (2.31.0)\n",
      "Requirement already satisfied: charset-normalizer<4,>=2 in c:\\users\\andre\\documents\\python\\ml4va\\env\\lib\\site-packages (from requests<3.0,>=2.20.0->googlemaps) (3.3.2)\n",
      "Requirement already satisfied: idna<4,>=2.5 in c:\\users\\andre\\documents\\python\\ml4va\\env\\lib\\site-packages (from requests<3.0,>=2.20.0->googlemaps) (3.4)\n",
      "Requirement already satisfied: urllib3<3,>=1.21.1 in c:\\users\\andre\\documents\\python\\ml4va\\env\\lib\\site-packages (from requests<3.0,>=2.20.0->googlemaps) (2.0.7)\n",
      "Requirement already satisfied: certifi>=2017.4.17 in c:\\users\\andre\\documents\\python\\ml4va\\env\\lib\\site-packages (from requests<3.0,>=2.20.0->googlemaps) (2023.7.22)\n",
      "Building wheels for collected packages: googlemaps\n",
      "  Building wheel for googlemaps (pyproject.toml): started\n",
      "  Building wheel for googlemaps (pyproject.toml): finished with status 'done'\n",
      "  Created wheel for googlemaps: filename=googlemaps-4.10.0-py3-none-any.whl size=40745 sha256=8b1b4276d40d78c74ae98d0803904f81c5fe3868290443f83a26887dc2659460\n",
      "  Stored in directory: c:\\users\\andre\\appdata\\local\\pip\\cache\\wheels\\f1\\09\\77\\3cc2f5659cbc62341b30f806aca2b25e6a26c351daa5b1f49a\n",
      "Successfully built googlemaps\n",
      "Installing collected packages: googlemaps\n",
      "Successfully installed googlemaps-4.10.0\n"
     ]
    },
    {
     "name": "stderr",
     "output_type": "stream",
     "text": [
      "WARNING: Retrying (Retry(total=4, connect=None, read=None, redirect=None, status=None)) after connection broken by 'ProtocolError('Connection aborted.', ConnectionResetError(10054, 'An existing connection was forcibly closed by the remote host', None, 10054, None))': /simple/googlemaps/\n",
      "\n",
      "[notice] A new release of pip is available: 23.1.2 -> 23.3.1\n",
      "[notice] To update, run: python.exe -m pip install --upgrade pip\n"
     ]
    }
   ],
   "source": [
    "!pip install googlemaps"
   ]
  },
  {
   "cell_type": "code",
   "execution_count": 2,
   "id": "868b652f-99b8-43f4-ab3c-05e65917b36a",
   "metadata": {},
   "outputs": [],
   "source": [
    "import googlemaps"
   ]
  },
  {
   "cell_type": "code",
   "execution_count": 3,
   "id": "3db8302e-35ca-4239-8041-0682843ba276",
   "metadata": {},
   "outputs": [],
   "source": [
    "def get_key(fpath=\"key.txt\"):\n",
    "    try:\n",
    "        with open(fpath, 'r') as file:\n",
    "            key = file.read().strip()\n",
    "        return key\n",
    "    except FileNotFoundError:\n",
    "        return f\"File '{fpath}' not found.\"\n",
    "    except Exception as e:\n",
    "        return f\"An error occurred: {str(e)}\""
   ]
  },
  {
   "cell_type": "code",
   "execution_count": 4,
   "id": "a4634d80-8385-4fca-a47b-7f3c3495a285",
   "metadata": {},
   "outputs": [],
   "source": [
    "gmaps = googlemaps.Client(key=get_key())"
   ]
  },
  {
   "cell_type": "code",
   "execution_count": 5,
   "id": "9929dbb6-21bc-4b75-b356-a6c42a19aba5",
   "metadata": {},
   "outputs": [],
   "source": [
    "geocode_test = gmaps.geocode('1600 Amphitheatre Parkway, Mountain View, CA')"
   ]
  },
  {
   "cell_type": "code",
   "execution_count": 6,
   "id": "1bf73175-8aea-4c07-9b76-36f201a81074",
   "metadata": {},
   "outputs": [
    {
     "data": {
      "text/plain": [
       "[{'address_components': [{'long_name': 'Google Building 40',\n",
       "    'short_name': 'Google Building 40',\n",
       "    'types': ['premise']},\n",
       "   {'long_name': '1600', 'short_name': '1600', 'types': ['street_number']},\n",
       "   {'long_name': 'Amphitheatre Parkway',\n",
       "    'short_name': 'Amphitheatre Pkwy',\n",
       "    'types': ['route']},\n",
       "   {'long_name': 'Mountain View',\n",
       "    'short_name': 'Mountain View',\n",
       "    'types': ['locality', 'political']},\n",
       "   {'long_name': 'Santa Clara County',\n",
       "    'short_name': 'Santa Clara County',\n",
       "    'types': ['administrative_area_level_2', 'political']},\n",
       "   {'long_name': 'California',\n",
       "    'short_name': 'CA',\n",
       "    'types': ['administrative_area_level_1', 'political']},\n",
       "   {'long_name': 'United States',\n",
       "    'short_name': 'US',\n",
       "    'types': ['country', 'political']},\n",
       "   {'long_name': '94043', 'short_name': '94043', 'types': ['postal_code']}],\n",
       "  'formatted_address': 'Google Building 40, 1600 Amphitheatre Pkwy, Mountain View, CA 94043, USA',\n",
       "  'geometry': {'bounds': {'northeast': {'lat': 37.4226618,\n",
       "     'lng': -122.0829302},\n",
       "    'southwest': {'lat': 37.4220699, 'lng': -122.084958}},\n",
       "   'location': {'lat': 37.4223878, 'lng': -122.0841877},\n",
       "   'location_type': 'ROOFTOP',\n",
       "   'viewport': {'northeast': {'lat': 37.42365228029151,\n",
       "     'lng': -122.0825951197085},\n",
       "    'southwest': {'lat': 37.42095431970851, 'lng': -122.0852930802915}}},\n",
       "  'place_id': 'ChIJj38IfwK6j4ARNcyPDnEGa9g',\n",
       "  'types': ['premise']}]"
      ]
     },
     "execution_count": 6,
     "metadata": {},
     "output_type": "execute_result"
    }
   ],
   "source": [
    "geocode_test"
   ]
  },
  {
   "cell_type": "code",
   "execution_count": 7,
   "id": "c90b6ca8-acef-4baf-b754-7066e27bc722",
   "metadata": {},
   "outputs": [],
   "source": [
    "geocode_test2 = gmaps.geocode('1600 BLK GENERAL BOOTH BOULEVARD')"
   ]
  },
  {
   "cell_type": "code",
   "execution_count": 8,
   "id": "6d487b5e-cb79-4792-ba3e-5c65e1a64333",
   "metadata": {},
   "outputs": [
    {
     "data": {
      "text/plain": [
       "[{'address_components': [{'long_name': '1600',\n",
       "    'short_name': '1600',\n",
       "    'types': ['street_number']},\n",
       "   {'long_name': 'General Booth Boulevard',\n",
       "    'short_name': 'General Booth Blvd',\n",
       "    'types': ['route']},\n",
       "   {'long_name': 'Virginia Beach',\n",
       "    'short_name': 'Virginia Beach',\n",
       "    'types': ['locality', 'political']},\n",
       "   {'long_name': 'Virginia',\n",
       "    'short_name': 'VA',\n",
       "    'types': ['administrative_area_level_1', 'political']},\n",
       "   {'long_name': 'United States',\n",
       "    'short_name': 'US',\n",
       "    'types': ['country', 'political']},\n",
       "   {'long_name': '23454', 'short_name': '23454', 'types': ['postal_code']},\n",
       "   {'long_name': '5602',\n",
       "    'short_name': '5602',\n",
       "    'types': ['postal_code_suffix']}],\n",
       "  'formatted_address': '1600 General Booth Blvd, Virginia Beach, VA 23454, USA',\n",
       "  'geometry': {'bounds': {'northeast': {'lat': 36.7857142, 'lng': -75.9985178},\n",
       "    'southwest': {'lat': 36.7854318, 'lng': -75.9989911}},\n",
       "   'location': {'lat': 36.7855717, 'lng': -75.9987053},\n",
       "   'location_type': 'ROOFTOP',\n",
       "   'viewport': {'northeast': {'lat': 36.78692418029149,\n",
       "     'lng': -75.9974054697085},\n",
       "    'southwest': {'lat': 36.78422621970849, 'lng': -76.00010343029152}}},\n",
       "  'place_id': 'ChIJ9R1gVvPBuokRS8InMn0p7U8',\n",
       "  'types': ['premise']}]"
      ]
     },
     "execution_count": 8,
     "metadata": {},
     "output_type": "execute_result"
    }
   ],
   "source": [
    "geocode_test2"
   ]
  },
  {
   "cell_type": "code",
   "execution_count": null,
   "id": "89e1a7ab-e5e5-4aec-9e13-8606aeb1f74a",
   "metadata": {},
   "outputs": [],
   "source": []
  }
 ],
 "metadata": {
  "kernelspec": {
   "display_name": "Python 3 (ipykernel)",
   "language": "python",
   "name": "python3"
  },
  "language_info": {
   "codemirror_mode": {
    "name": "ipython",
    "version": 3
   },
   "file_extension": ".py",
   "mimetype": "text/x-python",
   "name": "python",
   "nbconvert_exporter": "python",
   "pygments_lexer": "ipython3",
   "version": "3.11.4"
  }
 },
 "nbformat": 4,
 "nbformat_minor": 5
}
